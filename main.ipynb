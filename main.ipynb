{
 "cells": [
  {
   "cell_type": "code",
   "execution_count": 47,
   "metadata": {},
   "outputs": [],
   "source": [
    "import pandas as pd\n",
    "\n",
    "df = pd.read_csv('/Users/ajay/Desktop/prodcut_recommend/updated_dataset.csv')"
   ]
  },
  {
   "cell_type": "code",
   "execution_count": 48,
   "metadata": {},
   "outputs": [
    {
     "data": {
      "text/html": [
       "<div>\n",
       "<style scoped>\n",
       "    .dataframe tbody tr th:only-of-type {\n",
       "        vertical-align: middle;\n",
       "    }\n",
       "\n",
       "    .dataframe tbody tr th {\n",
       "        vertical-align: top;\n",
       "    }\n",
       "\n",
       "    .dataframe thead th {\n",
       "        text-align: right;\n",
       "    }\n",
       "</style>\n",
       "<table border=\"1\" class=\"dataframe\">\n",
       "  <thead>\n",
       "    <tr style=\"text-align: right;\">\n",
       "      <th></th>\n",
       "      <th>weight</th>\n",
       "      <th>ram</th>\n",
       "      <th>price</th>\n",
       "      <th>graphics</th>\n",
       "      <th>disk</th>\n",
       "      <th>battery</th>\n",
       "      <th>display</th>\n",
       "      <th>processor</th>\n",
       "      <th>max_mem</th>\n",
       "    </tr>\n",
       "  </thead>\n",
       "  <tbody>\n",
       "    <tr>\n",
       "      <th>0</th>\n",
       "      <td>1.378238</td>\n",
       "      <td>1.000000</td>\n",
       "      <td>1.072165</td>\n",
       "      <td>1.250</td>\n",
       "      <td>1.200000</td>\n",
       "      <td>1.2</td>\n",
       "      <td>2.000000</td>\n",
       "      <td>1.472222</td>\n",
       "      <td>1.142857</td>\n",
       "    </tr>\n",
       "    <tr>\n",
       "      <th>1</th>\n",
       "      <td>2.000000</td>\n",
       "      <td>1.333333</td>\n",
       "      <td>1.201031</td>\n",
       "      <td>1.000</td>\n",
       "      <td>1.466667</td>\n",
       "      <td>1.4</td>\n",
       "      <td>1.645653</td>\n",
       "      <td>1.416667</td>\n",
       "      <td>1.142857</td>\n",
       "    </tr>\n",
       "    <tr>\n",
       "      <th>2</th>\n",
       "      <td>1.326425</td>\n",
       "      <td>1.333333</td>\n",
       "      <td>1.276289</td>\n",
       "      <td>1.125</td>\n",
       "      <td>1.466667</td>\n",
       "      <td>1.4</td>\n",
       "      <td>1.645653</td>\n",
       "      <td>1.138889</td>\n",
       "      <td>1.285714</td>\n",
       "    </tr>\n",
       "    <tr>\n",
       "      <th>3</th>\n",
       "      <td>1.274611</td>\n",
       "      <td>1.333333</td>\n",
       "      <td>1.103093</td>\n",
       "      <td>1.500</td>\n",
       "      <td>2.000000</td>\n",
       "      <td>1.2</td>\n",
       "      <td>1.707677</td>\n",
       "      <td>1.638889</td>\n",
       "      <td>1.285714</td>\n",
       "    </tr>\n",
       "    <tr>\n",
       "      <th>4</th>\n",
       "      <td>1.067358</td>\n",
       "      <td>1.000000</td>\n",
       "      <td>1.046392</td>\n",
       "      <td>1.000</td>\n",
       "      <td>1.466667</td>\n",
       "      <td>1.4</td>\n",
       "      <td>1.000000</td>\n",
       "      <td>1.472222</td>\n",
       "      <td>1.000000</td>\n",
       "    </tr>\n",
       "  </tbody>\n",
       "</table>\n",
       "</div>"
      ],
      "text/plain": [
       "     weight       ram     price  graphics      disk  battery   display  \\\n",
       "0  1.378238  1.000000  1.072165     1.250  1.200000      1.2  2.000000   \n",
       "1  2.000000  1.333333  1.201031     1.000  1.466667      1.4  1.645653   \n",
       "2  1.326425  1.333333  1.276289     1.125  1.466667      1.4  1.645653   \n",
       "3  1.274611  1.333333  1.103093     1.500  2.000000      1.2  1.707677   \n",
       "4  1.067358  1.000000  1.046392     1.000  1.466667      1.4  1.000000   \n",
       "\n",
       "   processor   max_mem  \n",
       "0   1.472222  1.142857  \n",
       "1   1.416667  1.142857  \n",
       "2   1.138889  1.285714  \n",
       "3   1.638889  1.285714  \n",
       "4   1.472222  1.000000  "
      ]
     },
     "execution_count": 48,
     "metadata": {},
     "output_type": "execute_result"
    }
   ],
   "source": [
    "df = df[['weight_norm','ram_norm','price_norm','graphics_norm','disk_norm','battery_norm','display_norm','processor_norm','max_memory_norm']]\n",
    "\n",
    "df.columns=['weight','ram','price','graphics','disk','battery','display','processor','max_mem']\n",
    "df.head()"
   ]
  },
  {
   "cell_type": "code",
   "execution_count": 49,
   "metadata": {},
   "outputs": [
    {
     "data": {
      "text/html": [
       "<div>\n",
       "<style scoped>\n",
       "    .dataframe tbody tr th:only-of-type {\n",
       "        vertical-align: middle;\n",
       "    }\n",
       "\n",
       "    .dataframe tbody tr th {\n",
       "        vertical-align: top;\n",
       "    }\n",
       "\n",
       "    .dataframe thead th {\n",
       "        text-align: right;\n",
       "    }\n",
       "</style>\n",
       "<table border=\"1\" class=\"dataframe\">\n",
       "  <thead>\n",
       "    <tr style=\"text-align: right;\">\n",
       "      <th></th>\n",
       "      <th>variable</th>\n",
       "      <th>value</th>\n",
       "    </tr>\n",
       "  </thead>\n",
       "  <tbody>\n",
       "    <tr>\n",
       "      <th>0</th>\n",
       "      <td>weight</td>\n",
       "      <td>1.378238</td>\n",
       "    </tr>\n",
       "    <tr>\n",
       "      <th>1</th>\n",
       "      <td>weight</td>\n",
       "      <td>2.000000</td>\n",
       "    </tr>\n",
       "    <tr>\n",
       "      <th>2</th>\n",
       "      <td>weight</td>\n",
       "      <td>1.326425</td>\n",
       "    </tr>\n",
       "    <tr>\n",
       "      <th>3</th>\n",
       "      <td>weight</td>\n",
       "      <td>1.274611</td>\n",
       "    </tr>\n",
       "    <tr>\n",
       "      <th>4</th>\n",
       "      <td>weight</td>\n",
       "      <td>1.067358</td>\n",
       "    </tr>\n",
       "  </tbody>\n",
       "</table>\n",
       "</div>"
      ],
      "text/plain": [
       "  variable     value\n",
       "0   weight  1.378238\n",
       "1   weight  2.000000\n",
       "2   weight  1.326425\n",
       "3   weight  1.274611\n",
       "4   weight  1.067358"
      ]
     },
     "execution_count": 49,
     "metadata": {},
     "output_type": "execute_result"
    }
   ],
   "source": [
    "df_melted = pd.melt(df)\n",
    "df_melted.head()"
   ]
  },
  {
   "cell_type": "code",
   "execution_count": 50,
   "metadata": {},
   "outputs": [],
   "source": [
    "import matplotlib.pyplot as plt\n",
    "import seaborn as sns\n",
    "\n",
    "df.columns=['weight','ram','price','graphics','disk','battery','display','processor','max_memory']"
   ]
  },
  {
   "cell_type": "code",
   "execution_count": 51,
   "metadata": {},
   "outputs": [
    {
     "data": {
      "image/png": "[encoded data removed]",
      "text/plain": [
       "<Figure size 432x288 with 1 Axes>"
      ]
     },
     "metadata": {
      "needs_background": "light"
     },
     "output_type": "display_data"
    }
   ],
   "source": [
    "sns.boxplot(x='variable', y='value', data=df_melted)\n",
    "plt.savefig('graph.jpg')"
   ]
  },
  {
   "cell_type": "code",
   "execution_count": 53,
   "metadata": {},
   "outputs": [
    {
     "data": {
      "image/png": "[encoded data removed]",
      "text/plain": [
       "<Figure size 432x288 with 1 Axes>"
      ]
     },
     "metadata": {
      "needs_background": "light"
     },
     "output_type": "display_data"
    }
   ],
   "source": [
    "# df.columns=['weight','ram','price','graphics','disk','battery','display','processor','max_memory']\n",
    "df.plot(kind='box')\n",
    "plt.savefig('normalised_boxplot.jpg')"
   ]
  },
  {
   "cell_type": "code",
   "execution_count": null,
   "metadata": {},
   "outputs": [],
   "source": []
  }
 ],
 "metadata": {
  "kernelspec": {
   "display_name": "Python 3.9.12 64-bit",
   "language": "python",
   "name": "python3"
  },
  "language_info": {
   "codemirror_mode": {
    "name": "ipython",
    "version": 3
   },
   "file_extension": ".py",
   "mimetype": "text/x-python",
   "name": "python",
   "nbconvert_exporter": "python",
   "pygments_lexer": "ipython3",
   "version": "3.9.12"
  },
  "orig_nbformat": 4,
  "vscode": {
   "interpreter": {
    "hash": "b0fa6594d8f4cbf19f97940f81e996739fb7646882a419484c72d19e05852a7e"
   }
  }
 },
 "nbformat": 4,
 "nbformat_minor": 2
}
